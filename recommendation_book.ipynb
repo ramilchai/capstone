{
 "cells": [
  {
   "cell_type": "markdown",
   "metadata": {},
   "source": [
    "# Comic Books Recommendation System  \n",
    "## Based on Fantasy Book Preferences"
   ]
  },
  {
   "cell_type": "markdown",
   "metadata": {},
   "source": [
    "By Ramil Chaimongkolbutr"
   ]
  },
  {
   "cell_type": "markdown",
   "metadata": {},
   "source": [
    "***"
   ]
  },
  {
   "cell_type": "markdown",
   "metadata": {},
   "source": [
    "![goodreadslogo](./images/logo.jpg)"
   ]
  },
  {
   "cell_type": "markdown",
   "metadata": {},
   "source": [
    "***"
   ]
  },
  {
   "cell_type": "markdown",
   "metadata": {},
   "source": [
    "## Overview"
   ]
  },
  {
   "cell_type": "markdown",
   "metadata": {},
   "source": [
    "Recommendation system has been an integral part of tech companies' success for years. It helps generate around 35% of Amazon's revenue; it increases 33% of Spotify users; it contributes to 75% of what users watch on Netflix; and it is accounted for 60% of video clicks on Youtube. Recommendation system is used in a variety of areas, with commonly recognized examples taking the form of playlist generators for video and music services, relatable product recommenders for online stores, or content recommenders for social media platforms, or personalized topics such as restaurants and online dating."
   ]
  },
  {
   "cell_type": "markdown",
   "metadata": {},
   "source": [
    "***"
   ]
  },
  {
   "cell_type": "markdown",
   "metadata": {},
   "source": [
    "## Business Problem"
   ]
  },
  {
   "cell_type": "markdown",
   "metadata": {},
   "source": [
    "Amazon Books are looking to expand their sale in fantasy book section. Their plan is not only limited to recommending books within a certain genres, but also introducing new books from a different genres. We are tasked to build up a recommendation system that allows us to recommend cross-genre books, which in our case, comic books, to a customer based on his/her preference in fantasy book."
   ]
  },
  {
   "cell_type": "markdown",
   "metadata": {},
   "source": [
    "***"
   ]
  },
  {
   "cell_type": "markdown",
   "metadata": {},
   "source": [
    "## Data"
   ]
  },
  {
   "cell_type": "markdown",
   "metadata": {},
   "source": [
    "Data was collected directly from Goodreads API in 2017 and made availble by [Mengting Wan et al.](https://sites.google.com/eng.ucsd.edu/ucsdbookgraph/home) online (please click the name for the link to download). For more infomation, please visit Mengting's [Github repository](https://github.com/MengtingWan/goodreads)."
   ]
  },
  {
   "cell_type": "markdown",
   "metadata": {},
   "source": [
    "**Note**: the dataset is too large to be uploaded on github.  \n",
    "Here are steps to acquire the dataset in order to make our codes work:\n",
    "1. Download these following datasets:\n",
    "    - \"goodreads_books_comics_graphics.jason.gz\" by this [link](https://drive.google.com/uc?id=1ICk5x0HXvXDp5Zt54CKPh5qz1HyUIn9m).\n",
    "    - \"goodreads_interactions_comics_graphic.json.gz\" by this [link](https://drive.google.com/uc?id=1CCj-cQw_mJLMdvF_YYfQ7ibKA-dC_GA2).\n",
    "    - \"goodreads_books_fantasy_paranormal.json.gz\" by this [link](https://drive.google.com/uc?id=1x8IudloezYEg6qDTPxuBkqGuQ3xIBKrt).\n",
    "    - \"goodreads_interactions_fantasy_paranormal.json.gz\" by this [link](https://drive.google.com/uc?id=1EFHocJIh5nknbUMcz4LnrMEJkwW3Vk6h).\n",
    "2.    Create a folder and name it \"data\", then move all the dataset into the folder.\n",
    "3.    unzip all the data file. Make sure that all the data does not have .gz at the end of its name (gunzip command in gitbash can be useful in this case)."
   ]
  },
  {
   "cell_type": "markdown",
   "metadata": {},
   "source": [
    "The datasets we use in this project contain over 250000 fantasy books and over 85000 comic books. They also contain over 60 milion reviews from all over 100000 users. The rating reviews score between 1-5 stars (5 is \"it is amazing!\" to 1 is \"Didn't like it at all\"). The metadata also contains key features such as book_id, title, description, average rating, and image links."
   ]
  },
  {
   "cell_type": "markdown",
   "metadata": {},
   "source": [
    "***"
   ]
  },
  {
   "cell_type": "markdown",
   "metadata": {},
   "source": [
    "## Exploritory Data Analysis"
   ]
  },
  {
   "cell_type": "markdown",
   "metadata": {},
   "source": [
    "Let's import necessary python libraries."
   ]
  },
  {
   "cell_type": "code",
   "execution_count": 2,
   "metadata": {},
   "outputs": [],
   "source": [
    "import pandas as pd\n",
    "import numpy as np\n",
    "import json\n",
    "import gzip\n",
    "import re\n",
    "import os\n",
    "import sys\n",
    "\n",
    "from nltk.corpus import stopwords\n",
    "from sklearn.metrics.pairwise import linear_kernel\n",
    "from sklearn.feature_extraction.text import CountVectorizer\n",
    "from sklearn.feature_extraction.text import TfidfVectorizer\n",
    "from nltk.tokenize import RegexpTokenizer\n",
    "import re\n",
    "import string\n",
    "\n",
    "import matplotlib.pyplot as plt\n",
    "import seaborn as sns\n",
    "\n",
    "%matplotlib inline "
   ]
  },
  {
   "cell_type": "markdown",
   "metadata": {},
   "source": [
    "We begin exploring fantasy book dataset. Let's open the file and assign it to a variable. Check it out by sampling it. "
   ]
  },
  {
   "cell_type": "code",
   "execution_count": 3,
   "metadata": {},
   "outputs": [],
   "source": [
    "df_book = pd.read_json('data/goodreads_books_fantasy_paranormal.json', lines=True)"
   ]
  },
  {
   "cell_type": "code",
   "execution_count": 4,
   "metadata": {
    "scrolled": true
   },
   "outputs": [
    {
     "data": {
      "text/html": [
       "<div>\n",
       "<style scoped>\n",
       "    .dataframe tbody tr th:only-of-type {\n",
       "        vertical-align: middle;\n",
       "    }\n",
       "\n",
       "    .dataframe tbody tr th {\n",
       "        vertical-align: top;\n",
       "    }\n",
       "\n",
       "    .dataframe thead th {\n",
       "        text-align: right;\n",
       "    }\n",
       "</style>\n",
       "<table border=\"1\" class=\"dataframe\">\n",
       "  <thead>\n",
       "    <tr style=\"text-align: right;\">\n",
       "      <th></th>\n",
       "      <th>isbn</th>\n",
       "      <th>text_reviews_count</th>\n",
       "      <th>series</th>\n",
       "      <th>country_code</th>\n",
       "      <th>language_code</th>\n",
       "      <th>popular_shelves</th>\n",
       "      <th>asin</th>\n",
       "      <th>is_ebook</th>\n",
       "      <th>average_rating</th>\n",
       "      <th>kindle_asin</th>\n",
       "      <th>...</th>\n",
       "      <th>publication_month</th>\n",
       "      <th>edition_information</th>\n",
       "      <th>publication_year</th>\n",
       "      <th>url</th>\n",
       "      <th>image_url</th>\n",
       "      <th>book_id</th>\n",
       "      <th>ratings_count</th>\n",
       "      <th>work_id</th>\n",
       "      <th>title</th>\n",
       "      <th>title_without_series</th>\n",
       "    </tr>\n",
       "  </thead>\n",
       "  <tbody>\n",
       "    <tr>\n",
       "      <th>6978</th>\n",
       "      <td>3746626846</td>\n",
       "      <td>5</td>\n",
       "      <td>[292483]</td>\n",
       "      <td>US</td>\n",
       "      <td>ger</td>\n",
       "      <td>[{'count': '24', 'name': 'to-read'}, {'count':...</td>\n",
       "      <td></td>\n",
       "      <td>false</td>\n",
       "      <td>3.60</td>\n",
       "      <td></td>\n",
       "      <td>...</td>\n",
       "      <td></td>\n",
       "      <td></td>\n",
       "      <td>2011</td>\n",
       "      <td>https://www.goodreads.com/book/show/10982046-d...</td>\n",
       "      <td>https://images.gr-assets.com/books/1327321003m...</td>\n",
       "      <td>10982046</td>\n",
       "      <td>25</td>\n",
       "      <td>15900403</td>\n",
       "      <td>Die Blutgabe</td>\n",
       "      <td>Die Blutgabe</td>\n",
       "    </tr>\n",
       "    <tr>\n",
       "      <th>107322</th>\n",
       "      <td></td>\n",
       "      <td>4</td>\n",
       "      <td>[]</td>\n",
       "      <td>US</td>\n",
       "      <td></td>\n",
       "      <td>[{'count': '39', 'name': 'to-read'}, {'count':...</td>\n",
       "      <td>B010PIZX4E</td>\n",
       "      <td>true</td>\n",
       "      <td>4.36</td>\n",
       "      <td>B010PIZX4E</td>\n",
       "      <td>...</td>\n",
       "      <td></td>\n",
       "      <td></td>\n",
       "      <td></td>\n",
       "      <td>https://www.goodreads.com/book/show/25830141-s...</td>\n",
       "      <td>https://s.gr-assets.com/assets/nophoto/book/11...</td>\n",
       "      <td>25830141</td>\n",
       "      <td>17</td>\n",
       "      <td>45680901</td>\n",
       "      <td>Scent of Love (Phantom Wolves MC Book 2)</td>\n",
       "      <td>Scent of Love (Phantom Wolves MC Book 2)</td>\n",
       "    </tr>\n",
       "    <tr>\n",
       "      <th>87819</th>\n",
       "      <td></td>\n",
       "      <td>38</td>\n",
       "      <td>[808002]</td>\n",
       "      <td>US</td>\n",
       "      <td>eng</td>\n",
       "      <td>[{'count': '1127', 'name': 'currently-reading'...</td>\n",
       "      <td>B010E4UZK6</td>\n",
       "      <td>true</td>\n",
       "      <td>4.07</td>\n",
       "      <td>B010E4UZK6</td>\n",
       "      <td>...</td>\n",
       "      <td></td>\n",
       "      <td></td>\n",
       "      <td></td>\n",
       "      <td>https://www.goodreads.com/book/show/25918464-d...</td>\n",
       "      <td>https://s.gr-assets.com/assets/nophoto/book/11...</td>\n",
       "      <td>25918464</td>\n",
       "      <td>897</td>\n",
       "      <td>45807915</td>\n",
       "      <td>Dark Stranger Immortal (The Children of the Go...</td>\n",
       "      <td>Dark Stranger Immortal (The Children of the Go...</td>\n",
       "    </tr>\n",
       "    <tr>\n",
       "      <th>15963</th>\n",
       "      <td></td>\n",
       "      <td>6</td>\n",
       "      <td>[426089]</td>\n",
       "      <td>US</td>\n",
       "      <td>en-US</td>\n",
       "      <td>[{'count': '196', 'name': 'to-read'}, {'count'...</td>\n",
       "      <td>B0070TYM5I</td>\n",
       "      <td>true</td>\n",
       "      <td>3.81</td>\n",
       "      <td>B0070TYM5I</td>\n",
       "      <td>...</td>\n",
       "      <td></td>\n",
       "      <td></td>\n",
       "      <td></td>\n",
       "      <td>https://www.goodreads.com/book/show/20706348-a...</td>\n",
       "      <td>https://s.gr-assets.com/assets/nophoto/book/11...</td>\n",
       "      <td>20706348</td>\n",
       "      <td>34</td>\n",
       "      <td>18930087</td>\n",
       "      <td>Angel: Reverse (A:R Earth, #1)</td>\n",
       "      <td>Angel: Reverse (A:R Earth, #1)</td>\n",
       "    </tr>\n",
       "    <tr>\n",
       "      <th>88274</th>\n",
       "      <td></td>\n",
       "      <td>8</td>\n",
       "      <td>[]</td>\n",
       "      <td>US</td>\n",
       "      <td>eng</td>\n",
       "      <td>[{'count': '34', 'name': 'to-read'}, {'count':...</td>\n",
       "      <td></td>\n",
       "      <td>true</td>\n",
       "      <td>3.34</td>\n",
       "      <td></td>\n",
       "      <td>...</td>\n",
       "      <td>11</td>\n",
       "      <td></td>\n",
       "      <td>2012</td>\n",
       "      <td>https://www.goodreads.com/book/show/16158123-g...</td>\n",
       "      <td>https://images.gr-assets.com/books/1353309639m...</td>\n",
       "      <td>16158123</td>\n",
       "      <td>38</td>\n",
       "      <td>21998520</td>\n",
       "      <td>Griff and Ash</td>\n",
       "      <td>Griff and Ash</td>\n",
       "    </tr>\n",
       "  </tbody>\n",
       "</table>\n",
       "<p>5 rows × 29 columns</p>\n",
       "</div>"
      ],
      "text/plain": [
       "              isbn  text_reviews_count    series country_code language_code  \\\n",
       "6978    3746626846                   5  [292483]           US           ger   \n",
       "107322                               4        []           US                 \n",
       "87819                               38  [808002]           US           eng   \n",
       "15963                                6  [426089]           US         en-US   \n",
       "88274                                8        []           US           eng   \n",
       "\n",
       "                                          popular_shelves        asin  \\\n",
       "6978    [{'count': '24', 'name': 'to-read'}, {'count':...               \n",
       "107322  [{'count': '39', 'name': 'to-read'}, {'count':...  B010PIZX4E   \n",
       "87819   [{'count': '1127', 'name': 'currently-reading'...  B010E4UZK6   \n",
       "15963   [{'count': '196', 'name': 'to-read'}, {'count'...  B0070TYM5I   \n",
       "88274   [{'count': '34', 'name': 'to-read'}, {'count':...               \n",
       "\n",
       "       is_ebook  average_rating kindle_asin  ... publication_month  \\\n",
       "6978      false            3.60              ...                     \n",
       "107322     true            4.36  B010PIZX4E  ...                     \n",
       "87819      true            4.07  B010E4UZK6  ...                     \n",
       "15963      true            3.81  B0070TYM5I  ...                     \n",
       "88274      true            3.34              ...                11   \n",
       "\n",
       "       edition_information publication_year  \\\n",
       "6978                                   2011   \n",
       "107322                                        \n",
       "87819                                         \n",
       "15963                                         \n",
       "88274                                  2012   \n",
       "\n",
       "                                                      url  \\\n",
       "6978    https://www.goodreads.com/book/show/10982046-d...   \n",
       "107322  https://www.goodreads.com/book/show/25830141-s...   \n",
       "87819   https://www.goodreads.com/book/show/25918464-d...   \n",
       "15963   https://www.goodreads.com/book/show/20706348-a...   \n",
       "88274   https://www.goodreads.com/book/show/16158123-g...   \n",
       "\n",
       "                                                image_url   book_id  \\\n",
       "6978    https://images.gr-assets.com/books/1327321003m...  10982046   \n",
       "107322  https://s.gr-assets.com/assets/nophoto/book/11...  25830141   \n",
       "87819   https://s.gr-assets.com/assets/nophoto/book/11...  25918464   \n",
       "15963   https://s.gr-assets.com/assets/nophoto/book/11...  20706348   \n",
       "88274   https://images.gr-assets.com/books/1353309639m...  16158123   \n",
       "\n",
       "       ratings_count   work_id  \\\n",
       "6978              25  15900403   \n",
       "107322            17  45680901   \n",
       "87819            897  45807915   \n",
       "15963             34  18930087   \n",
       "88274             38  21998520   \n",
       "\n",
       "                                                    title  \\\n",
       "6978                                         Die Blutgabe   \n",
       "107322           Scent of Love (Phantom Wolves MC Book 2)   \n",
       "87819   Dark Stranger Immortal (The Children of the Go...   \n",
       "15963                      Angel: Reverse (A:R Earth, #1)   \n",
       "88274                                       Griff and Ash   \n",
       "\n",
       "                                     title_without_series  \n",
       "6978                                         Die Blutgabe  \n",
       "107322           Scent of Love (Phantom Wolves MC Book 2)  \n",
       "87819   Dark Stranger Immortal (The Children of the Go...  \n",
       "15963                      Angel: Reverse (A:R Earth, #1)  \n",
       "88274                                       Griff and Ash  \n",
       "\n",
       "[5 rows x 29 columns]"
      ]
     },
     "execution_count": 4,
     "metadata": {},
     "output_type": "execute_result"
    }
   ],
   "source": [
    "df_book.sample(5)"
   ]
  },
  {
   "cell_type": "markdown",
   "metadata": {},
   "source": [
    "Let's get some more insights about the dataset."
   ]
  },
  {
   "cell_type": "code",
   "execution_count": 5,
   "metadata": {},
   "outputs": [
    {
     "data": {
      "text/plain": [
       "(258585, 29)"
      ]
     },
     "execution_count": 5,
     "metadata": {},
     "output_type": "execute_result"
    }
   ],
   "source": [
    "df_book.shape"
   ]
  },
  {
   "cell_type": "code",
   "execution_count": 9,
   "metadata": {
    "scrolled": true
   },
   "outputs": [
    {
     "name": "stdout",
     "output_type": "stream",
     "text": [
      "<class 'pandas.core.frame.DataFrame'>\n",
      "RangeIndex: 258585 entries, 0 to 258584\n",
      "Data columns (total 29 columns):\n",
      " #   Column                Non-Null Count   Dtype  \n",
      "---  ------                --------------   -----  \n",
      " 0   isbn                  258585 non-null  object \n",
      " 1   text_reviews_count    258585 non-null  int64  \n",
      " 2   series                258585 non-null  object \n",
      " 3   country_code          258585 non-null  object \n",
      " 4   language_code         258585 non-null  object \n",
      " 5   popular_shelves       258585 non-null  object \n",
      " 6   asin                  258585 non-null  object \n",
      " 7   is_ebook              258585 non-null  object \n",
      " 8   average_rating        258585 non-null  float64\n",
      " 9   kindle_asin           258585 non-null  object \n",
      " 10  similar_books         258585 non-null  object \n",
      " 11  description           258585 non-null  object \n",
      " 12  format                258585 non-null  object \n",
      " 13  link                  258585 non-null  object \n",
      " 14  authors               258585 non-null  object \n",
      " 15  publisher             258585 non-null  object \n",
      " 16  num_pages             258585 non-null  object \n",
      " 17  publication_day       258585 non-null  object \n",
      " 18  isbn13                258585 non-null  object \n",
      " 19  publication_month     258585 non-null  object \n",
      " 20  edition_information   258585 non-null  object \n",
      " 21  publication_year      258585 non-null  object \n",
      " 22  url                   258585 non-null  object \n",
      " 23  image_url             258585 non-null  object \n",
      " 24  book_id               258585 non-null  int64  \n",
      " 25  ratings_count         258585 non-null  int64  \n",
      " 26  work_id               258585 non-null  int64  \n",
      " 27  title                 258585 non-null  object \n",
      " 28  title_without_series  258585 non-null  object \n",
      "dtypes: float64(1), int64(4), object(24)\n",
      "memory usage: 57.2+ MB\n",
      "None\n",
      "       text_reviews_count  average_rating       book_id  ratings_count  \\\n",
      "count        258585.00000   258585.000000  2.585850e+05   2.585850e+05   \n",
      "mean             48.66539        3.941337  1.665688e+07   8.404962e+02   \n",
      "std             534.42068        0.364376  1.003473e+07   1.917309e+04   \n",
      "min               0.00000        0.000000  1.000000e+00   0.000000e+00   \n",
      "25%               3.00000        3.730000  8.565915e+06   1.300000e+01   \n",
      "50%               7.00000        3.960000  1.725732e+07   4.200000e+01   \n",
      "75%              19.00000        4.180000  2.468599e+07   1.560000e+02   \n",
      "max           90766.00000        5.000000  3.651316e+07   4.765497e+06   \n",
      "\n",
      "            work_id  \n",
      "count  2.585850e+05  \n",
      "mean   2.142832e+07  \n",
      "std    1.808880e+07  \n",
      "min    5.050000e+02  \n",
      "25%    3.165724e+06  \n",
      "50%    1.827042e+07  \n",
      "75%    4.139596e+07  \n",
      "max    5.836990e+07  \n"
     ]
    }
   ],
   "source": [
    "print(df_book.info())\n",
    "print(df_book.describe())"
   ]
  },
  {
   "cell_type": "markdown",
   "metadata": {},
   "source": [
    "Nice, no missing value! Check out a sample description."
   ]
  },
  {
   "cell_type": "code",
   "execution_count": 7,
   "metadata": {
    "scrolled": false
   },
   "outputs": [
    {
     "name": "stdout",
     "output_type": "stream",
     "text": [
      "White Witch, Black Curse\n",
      "Kick-ass witch and bounty hunter Rachel Morgan lost her lover, and now she wont rest until his murder is solved and avenged. But the road to hell is paved with good intentions, and Rachels past comes back to haunt herliterally.\n"
     ]
    }
   ],
   "source": [
    "print(df_book['title'][2021])\n",
    "print(df_book['description'][2021])"
   ]
  },
  {
   "cell_type": "markdown",
   "metadata": {},
   "source": [
    "### Explore the Rating Counts"
   ]
  },
  {
   "cell_type": "markdown",
   "metadata": {},
   "source": [
    "Let's take a look at rating pattern of users."
   ]
  },
  {
   "cell_type": "code",
   "execution_count": 13,
   "metadata": {
    "scrolled": true
   },
   "outputs": [
    {
     "data": {
      "text/plain": [
       "<matplotlib.legend.Legend at 0x26d79dcf370>"
      ]
     },
     "execution_count": 13,
     "metadata": {},
     "output_type": "execute_result"
    },
    {
     "data": {
      "image/png": "[encoded data removed]",
      "text/plain": [
       "<Figure size 1080x576 with 2 Axes>"
      ]
     },
     "metadata": {
      "needs_background": "light"
     },
     "output_type": "display_data"
    }
   ],
   "source": [
    "fig = plt.figure(figsize=(15,8))\n",
    "ax = fig.add_subplot(111)\n",
    "ax2 = ax.twinx()\n",
    "\n",
    "width = 0.2\n",
    "\n",
    "avg_rating = df_book[['title','ratings_count', 'average_rating']]\n",
    "avg_rating = avg_rating.sort_values(by='ratings_count', ascending=False)[:10].set_index('title')\n",
    "\n",
    "\n",
    "\n",
    "avg_rating['ratings_count'].plot(kind='bar', color='orange', ax=ax, width=width, position=1, legend='Counts')\n",
    "avg_rating['average_rating'].plot( kind='bar', color='green', ax=ax2, width=width, position=0, legend='Avg Rating')\n",
    "\n",
    "ax.set_ylabel('Counts')\n",
    "ax2.set_ylabel('Avg Rating')\n",
    "\n",
    "ax.legend(loc='upper left')\n",
    "ax2.legend(loc='upper right')\n"
   ]
  },
  {
   "cell_type": "code",
   "execution_count": 39,
   "metadata": {
    "scrolled": true
   },
   "outputs": [
    {
     "data": {
      "image/png": "[encoded data removed]",
      "text/plain": [
       "<Figure size 720x576 with 1 Axes>"
      ]
     },
     "metadata": {
      "needs_background": "light"
     },
     "output_type": "display_data"
    }
   ],
   "source": [
    "fig, ax = plt.subplots(figsize=(10,8))\n",
    "\n",
    "avg_rating = df_book[['title','ratings_count', 'average_rating']]\n",
    "Top_100_rating = avg_rating.sort_values(by='ratings_count', ascending=False)[:100].set_index('title')\n",
    "the_rest_rating = avg_rating.sort_values(by='ratings_count', ascending=False)[100:].set_index('title')\n",
    "\n",
    "counts = [Top_100_rating['ratings_count'].sum(), the_rest_rating['ratings_count'].sum()]\n",
    "x = [\"Top 100\",\"The Rest\"]\n",
    "colors=['orange', 'green']\n",
    "\n",
    "ax.bar(x, counts, color=colors)\n",
    "\n",
    "ax.set_ylabel('Counts')\n",
    "ax.set_title('Rating Counts: Top 100 highest-rated books vs The Rest')\n",
    "\n",
    "for i, v in enumerate(counts):\n",
    "    ax.text(i-0.10, v + 2000000, str(v), color=colors[i], fontweight='bold')"
   ]
  },
  {
   "cell_type": "markdown",
   "metadata": {},
   "source": [
    "From the graph, we can see that the higher rated books trend to attach more reviewers. In top 100 highest-rated books, it has almost a half as many reviews as the rest of 258485 books. Let's get to know which one has the most rating counts. "
   ]
  },
  {
   "cell_type": "markdown",
   "metadata": {},
   "source": [
    "Here is the list of the top ten highest count books."
   ]
  },
  {
   "cell_type": "code",
   "execution_count": 40,
   "metadata": {},
   "outputs": [
    {
     "data": {
      "text/html": [
       "<div>\n",
       "<style scoped>\n",
       "    .dataframe tbody tr th:only-of-type {\n",
       "        vertical-align: middle;\n",
       "    }\n",
       "\n",
       "    .dataframe tbody tr th {\n",
       "        vertical-align: top;\n",
       "    }\n",
       "\n",
       "    .dataframe thead th {\n",
       "        text-align: right;\n",
       "    }\n",
       "</style>\n",
       "<table border=\"1\" class=\"dataframe\">\n",
       "  <thead>\n",
       "    <tr style=\"text-align: right;\">\n",
       "      <th></th>\n",
       "      <th>title</th>\n",
       "      <th>ratings_count</th>\n",
       "      <th>average_rating</th>\n",
       "    </tr>\n",
       "  </thead>\n",
       "  <tbody>\n",
       "    <tr>\n",
       "      <th>173961</th>\n",
       "      <td>Harry Potter and the Sorcerer's Stone (Harry P...</td>\n",
       "      <td>4765497</td>\n",
       "      <td>4.45</td>\n",
       "    </tr>\n",
       "    <tr>\n",
       "      <th>63913</th>\n",
       "      <td>Twilight (Twilight, #1)</td>\n",
       "      <td>3941381</td>\n",
       "      <td>3.57</td>\n",
       "    </tr>\n",
       "    <tr>\n",
       "      <th>88287</th>\n",
       "      <td>The Hobbit</td>\n",
       "      <td>2099680</td>\n",
       "      <td>4.25</td>\n",
       "    </tr>\n",
       "    <tr>\n",
       "      <th>196958</th>\n",
       "      <td>Harry Potter and the Chamber of Secrets (Harry...</td>\n",
       "      <td>1821802</td>\n",
       "      <td>4.38</td>\n",
       "    </tr>\n",
       "    <tr>\n",
       "      <th>239674</th>\n",
       "      <td>The Fellowship of the Ring (The Lord of the Ri...</td>\n",
       "      <td>1813229</td>\n",
       "      <td>4.34</td>\n",
       "    </tr>\n",
       "    <tr>\n",
       "      <th>246719</th>\n",
       "      <td>Harry Potter and the Goblet of Fire (Harry Pot...</td>\n",
       "      <td>1792561</td>\n",
       "      <td>4.53</td>\n",
       "    </tr>\n",
       "    <tr>\n",
       "      <th>178868</th>\n",
       "      <td>Harry Potter and the Deathly Hallows (Harry Po...</td>\n",
       "      <td>1784684</td>\n",
       "      <td>4.62</td>\n",
       "    </tr>\n",
       "    <tr>\n",
       "      <th>228269</th>\n",
       "      <td>Harry Potter and the Order of the Phoenix (Har...</td>\n",
       "      <td>1766895</td>\n",
       "      <td>4.47</td>\n",
       "    </tr>\n",
       "    <tr>\n",
       "      <th>94272</th>\n",
       "      <td>Harry Potter and the Half-Blood Prince (Harry ...</td>\n",
       "      <td>1713866</td>\n",
       "      <td>4.54</td>\n",
       "    </tr>\n",
       "    <tr>\n",
       "      <th>184105</th>\n",
       "      <td>The Lion, the Witch, and the Wardrobe (Chronic...</td>\n",
       "      <td>1575387</td>\n",
       "      <td>4.19</td>\n",
       "    </tr>\n",
       "  </tbody>\n",
       "</table>\n",
       "</div>"
      ],
      "text/plain": [
       "                                                    title  ratings_count  \\\n",
       "173961  Harry Potter and the Sorcerer's Stone (Harry P...        4765497   \n",
       "63913                             Twilight (Twilight, #1)        3941381   \n",
       "88287                                          The Hobbit        2099680   \n",
       "196958  Harry Potter and the Chamber of Secrets (Harry...        1821802   \n",
       "239674  The Fellowship of the Ring (The Lord of the Ri...        1813229   \n",
       "246719  Harry Potter and the Goblet of Fire (Harry Pot...        1792561   \n",
       "178868  Harry Potter and the Deathly Hallows (Harry Po...        1784684   \n",
       "228269  Harry Potter and the Order of the Phoenix (Har...        1766895   \n",
       "94272   Harry Potter and the Half-Blood Prince (Harry ...        1713866   \n",
       "184105  The Lion, the Witch, and the Wardrobe (Chronic...        1575387   \n",
       "\n",
       "        average_rating  \n",
       "173961            4.45  \n",
       "63913             3.57  \n",
       "88287             4.25  \n",
       "196958            4.38  \n",
       "239674            4.34  \n",
       "246719            4.53  \n",
       "178868            4.62  \n",
       "228269            4.47  \n",
       "94272             4.54  \n",
       "184105            4.19  "
      ]
     },
     "execution_count": 40,
     "metadata": {},
     "output_type": "execute_result"
    }
   ],
   "source": [
    "avg_rating.sort_values(by='ratings_count', ascending=False)[:10]"
   ]
  },
  {
   "cell_type": "markdown",
   "metadata": {},
   "source": [
    "### Word Count Distribution "
   ]
  },
  {
   "cell_type": "markdown",
   "metadata": {},
   "source": [
    "We want to gain some insight from book descriptions. We plan to use this feature to find similarity between two datasets. Since we are working with the fantasy book dataset, we start by taking a look on its word count distribution first. "
   ]
  },
  {
   "cell_type": "code",
   "execution_count": 45,
   "metadata": {
    "scrolled": true
   },
   "outputs": [
    {
     "data": {
      "text/plain": [
       "<AxesSubplot:title={'center':'Word Count Distribution for book descriptions'}, ylabel='Frequency'>"
      ]
     },
     "execution_count": 45,
     "metadata": {},
     "output_type": "execute_result"
    },
    {
     "data": {
      "image/png": "[encoded data removed]",
      "text/plain": [
       "<Figure size 864x360 with 1 Axes>"
      ]
     },
     "metadata": {
      "needs_background": "light"
     },
     "output_type": "display_data"
    }
   ],
   "source": [
    "# Calculating the word count for book description\n",
    "df_book['word_count'] = df_book['description'].apply(lambda x: len(str(x).split()))\n",
    "# Plotting the word count\n",
    "df_book['word_count'].plot(\n",
    "    kind='hist',\n",
    "    bins = 50,\n",
    "    color='coral',\n",
    "    figsize = (12,5),title='Word Count Distribution for book descriptions')"
   ]
  },
  {
   "cell_type": "markdown",
   "metadata": {},
   "source": [
    "The average word count is around 200 words. "
   ]
  },
  {
   "cell_type": "markdown",
   "metadata": {},
   "source": [
    "### Part-of-speech tags Distribution in book descriptions"
   ]
  },
  {
   "cell_type": "markdown",
   "metadata": {},
   "source": [
    "Let's check out the distribution of its part-of-speech. This section we will use the help from Textblob library. Textblob library is an open-source python library for processing textual data. It performs different operations on textual data such as noun phrase extraction, sentiment analysis, classification, translation, etc."
   ]
  },
  {
   "cell_type": "code",
   "execution_count": 46,
   "metadata": {
    "scrolled": true
   },
   "outputs": [
    {
     "name": "stdout",
     "output_type": "stream",
     "text": [
      "Requirement already satisfied: textblob in c:\\users\\ramil\\anaconda3\\envs\\learn-env\\lib\\site-packages (0.15.3)\n",
      "Requirement already satisfied: nltk>=3.1 in c:\\users\\ramil\\anaconda3\\envs\\learn-env\\lib\\site-packages (from textblob) (3.5)\n",
      "Requirement already satisfied: tqdm in c:\\users\\ramil\\anaconda3\\envs\\learn-env\\lib\\site-packages (from nltk>=3.1->textblob) (4.50.2)\n",
      "Requirement already satisfied: joblib in c:\\users\\ramil\\anaconda3\\envs\\learn-env\\lib\\site-packages (from nltk>=3.1->textblob) (0.17.0)\n",
      "Requirement already satisfied: regex in c:\\users\\ramil\\anaconda3\\envs\\learn-env\\lib\\site-packages (from nltk>=3.1->textblob) (2020.10.15)\n",
      "Requirement already satisfied: click in c:\\users\\ramil\\anaconda3\\envs\\learn-env\\lib\\site-packages (from nltk>=3.1->textblob) (7.1.2)\n"
     ]
    }
   ],
   "source": [
    "!pip install textblob"
   ]
  },
  {
   "cell_type": "code",
   "execution_count": 47,
   "metadata": {
    "scrolled": true
   },
   "outputs": [
    {
     "data": {
      "text/plain": [
       "<AxesSubplot:title={'center':'Top 20 Part-of-speech tagging for description'}>"
      ]
     },
     "execution_count": 47,
     "metadata": {},
     "output_type": "execute_result"
    },
    {
     "data": {
      "image/png": "[encoded data removed]",
      "text/plain": [
       "<Figure size 720x576 with 1 Axes>"
      ]
     },
     "metadata": {
      "needs_background": "light"
     },
     "output_type": "display_data"
    }
   ],
   "source": [
    "from textblob import TextBlob\n",
    "blob = TextBlob(str(df_book['description']))\n",
    "pos_df = pd.DataFrame(blob.tags, columns = ['word' , 'pos'])\n",
    "pos_df = pos_df.pos.value_counts()[:20]\n",
    "pos_df.plot(kind = 'bar',\n",
    "            color=\"mediumslateblue\",\n",
    "            figsize=(10, 8), \n",
    "            title = \"Top 20 Part-of-speech tagging for description\")"
   ]
  },
  {
   "cell_type": "markdown",
   "metadata": {},
   "source": [
    "### Bigram Distribution "
   ]
  },
  {
   "cell_type": "markdown",
   "metadata": {},
   "source": [
    "Let's take a look on the distribution of bigram. We want to see some pattern of a sequence of two adjacent elements from a string of tokens."
   ]
  },
  {
   "cell_type": "code",
   "execution_count": 48,
   "metadata": {
    "scrolled": true
   },
   "outputs": [
    {
     "data": {
      "text/plain": [
       "<AxesSubplot:title={'center':'Bigram disribution for the top 20 words in the book description'}, xlabel='bigram'>"
      ]
     },
     "execution_count": 48,
     "metadata": {},
     "output_type": "execute_result"
    },
    {
     "data": {
      "image/png": "[encoded data removed]",
      "text/plain": [
       "<Figure size 1080x504 with 1 Axes>"
      ]
     },
     "metadata": {
      "needs_background": "light"
     },
     "output_type": "display_data"
    }
   ],
   "source": [
    "#Converting text descriptions into vectors using TF-IDF using Bigram\n",
    "tf = TfidfVectorizer(ngram_range=(2, 2), stop_words='english', lowercase = False)\n",
    "tfidf_matrix = tf.fit_transform(df_book['description'])\n",
    "total_words = tfidf_matrix.sum(axis=0) \n",
    "#Finding the word frequency\n",
    "freq = [(word, total_words[0, idx]) for word, idx in tf.vocabulary_.items()]\n",
    "freq =sorted(freq, key = lambda x: x[1], reverse=True)\n",
    "#converting into dataframe \n",
    "bigram = pd.DataFrame(freq)\n",
    "bigram.rename(columns = {0:'bigram', 1: 'count'}, inplace = True) \n",
    "#Taking first 20 records\n",
    "bigram = bigram.head(20)\n",
    "#Plotting the bigram distribution\n",
    "bigram.plot(x ='bigram', \n",
    "            y='count', \n",
    "            kind = 'bar',\n",
    "            color=\"darkorange\",\n",
    "            title = \"Bigram disribution for the top 20 words in the book description\", \n",
    "            figsize = (15,7))"
   ]
  },
  {
   "cell_type": "markdown",
   "metadata": {},
   "source": [
    "### Trigram Distribution "
   ]
  },
  {
   "cell_type": "markdown",
   "metadata": {},
   "source": [
    "This time we take a look on the distribution of trigram. It is similar to bigram, but it is a sequence of three adjacent elements instead of two. "
   ]
  },
  {
   "cell_type": "code",
   "execution_count": 49,
   "metadata": {
    "scrolled": true
   },
   "outputs": [
    {
     "data": {
      "text/plain": [
       "<AxesSubplot:title={'center':'Trigram disribution for the top 20 words in the book description'}, xlabel='trigram'>"
      ]
     },
     "execution_count": 49,
     "metadata": {},
     "output_type": "execute_result"
    },
    {
     "data": {
      "image/png": "[encoded data removed]",
      "text/plain": [
       "<Figure size 1080x504 with 1 Axes>"
      ]
     },
     "metadata": {
      "needs_background": "light"
     },
     "output_type": "display_data"
    }
   ],
   "source": [
    "#Converting text descriptions into vectors using TF-IDF using Trigram\n",
    "tf = TfidfVectorizer(ngram_range=(3, 3), stop_words='english', lowercase = False)\n",
    "tfidf_matrix = tf.fit_transform(df_book['description'])\n",
    "total_words = tfidf_matrix.sum(axis=0) \n",
    "#Finding the word frequency\n",
    "freq = [(word, total_words[0, idx]) for word, idx in tf.vocabulary_.items()]\n",
    "freq =sorted(freq, key = lambda x: x[1], reverse=True)\n",
    "#converting into dataframe \n",
    "trigram = pd.DataFrame(freq)\n",
    "trigram.rename(columns = {0:'trigram', 1: 'count'}, inplace = True) \n",
    "#Taking first 20 records\n",
    "trigram = trigram.head(20)\n",
    "#Plotting the trigramn distribution\n",
    "trigram.plot(x ='trigram', \n",
    "             y='count', \n",
    "             kind = 'bar',\n",
    "             color=\"crimson\",\n",
    "             title = \"Trigram disribution for the top 20 words in the book description\", figsize = (15,7))"
   ]
  },
  {
   "cell_type": "markdown",
   "metadata": {},
   "source": [
    "## Exploring the interaction dataset"
   ]
  },
  {
   "cell_type": "markdown",
   "metadata": {},
   "source": [
    "We create a function to load in the dataset. **The typical pandas open file method will crash the notebook because of the size of the dataset**"
   ]
  },
  {
   "cell_type": "markdown",
   "metadata": {},
   "source": [
    "**Note** The interaction dataset is huge. We choose to sample only 50000 interactions in order to make it work on the notebook. With higher computing power should try to increase the number of sample of choice by adjusting the default variable in load_data function to a greater number. "
   ]
  },
  {
   "cell_type": "code",
   "execution_count": 50,
   "metadata": {},
   "outputs": [],
   "source": [
    "def load_data(file_name, head = 50000):\n",
    "    '''\n",
    "    This function is built to read each line of the goodreads fantasy book interection dataset. Due to the size \n",
    "    of the dataset, the typical read json method will result in craching the notebook. \n",
    "        The variable head is set to 50000 as default. The user can change its number to a desired number of interections that\n",
    "        suits their computing power.\n",
    "    '''\n",
    "    count = 0\n",
    "    data = []\n",
    "    with open(file_name) as fin:\n",
    "        for l in fin:\n",
    "            d = json.loads(l)\n",
    "            if (d['is_read'] == True) and (d['rating']!=0):\n",
    "                count += 1\n",
    "                data.append(d)\n",
    "            else:\n",
    "                continue\n",
    "            \n",
    "            # break if reaches limit line\n",
    "            if (head is not None) and (count > head):\n",
    "                break\n",
    "    return data"
   ]
  },
  {
   "cell_type": "code",
   "execution_count": 51,
   "metadata": {},
   "outputs": [],
   "source": [
    "interactions = load_data('data/goodreads_interactions_fantasy_paranormal.json')"
   ]
  },
  {
   "cell_type": "markdown",
   "metadata": {},
   "source": [
    "Build an interaction dataframe from the list of interactions we got from the load_data function. Check out its information as usual."
   ]
  },
  {
   "cell_type": "code",
   "execution_count": 52,
   "metadata": {},
   "outputs": [],
   "source": [
    "df_inter = pd.DataFrame(interactions)"
   ]
  },
  {
   "cell_type": "code",
   "execution_count": 54,
   "metadata": {
    "scrolled": true
   },
   "outputs": [
    {
     "name": "stdout",
     "output_type": "stream",
     "text": [
      "<class 'pandas.core.frame.DataFrame'>\n",
      "RangeIndex: 50001 entries, 0 to 50000\n",
      "Data columns (total 10 columns):\n",
      " #   Column                  Non-Null Count  Dtype \n",
      "---  ------                  --------------  ----- \n",
      " 0   user_id                 50001 non-null  object\n",
      " 1   book_id                 50001 non-null  object\n",
      " 2   review_id               50001 non-null  object\n",
      " 3   is_read                 50001 non-null  bool  \n",
      " 4   rating                  50001 non-null  int64 \n",
      " 5   review_text_incomplete  50001 non-null  object\n",
      " 6   date_added              50001 non-null  object\n",
      " 7   date_updated            50001 non-null  object\n",
      " 8   read_at                 50001 non-null  object\n",
      " 9   started_at              50001 non-null  object\n",
      "dtypes: bool(1), int64(1), object(8)\n",
      "memory usage: 3.5+ MB\n",
      "None\n",
      "             rating\n",
      "count  50001.000000\n",
      "mean       3.954181\n",
      "std        0.961041\n",
      "min        1.000000\n",
      "25%        3.000000\n",
      "50%        4.000000\n",
      "75%        5.000000\n",
      "max        5.000000\n"
     ]
    }
   ],
   "source": [
    "print(df_inter.info())\n",
    "print(df_inter.describe())"
   ]
  },
  {
   "cell_type": "code",
   "execution_count": 55,
   "metadata": {
    "scrolled": true
   },
   "outputs": [
    {
     "data": {
      "text/html": [
       "<div>\n",
       "<style scoped>\n",
       "    .dataframe tbody tr th:only-of-type {\n",
       "        vertical-align: middle;\n",
       "    }\n",
       "\n",
       "    .dataframe tbody tr th {\n",
       "        vertical-align: top;\n",
       "    }\n",
       "\n",
       "    .dataframe thead th {\n",
       "        text-align: right;\n",
       "    }\n",
       "</style>\n",
       "<table border=\"1\" class=\"dataframe\">\n",
       "  <thead>\n",
       "    <tr style=\"text-align: right;\">\n",
       "      <th></th>\n",
       "      <th>user_id</th>\n",
       "      <th>book_id</th>\n",
       "      <th>review_id</th>\n",
       "      <th>is_read</th>\n",
       "      <th>rating</th>\n",
       "      <th>review_text_incomplete</th>\n",
       "      <th>date_added</th>\n",
       "      <th>date_updated</th>\n",
       "      <th>read_at</th>\n",
       "      <th>started_at</th>\n",
       "    </tr>\n",
       "  </thead>\n",
       "  <tbody>\n",
       "    <tr>\n",
       "      <th>46988</th>\n",
       "      <td>1e2e603a3d86ac5d2af6a85e76998766</td>\n",
       "      <td>20560137</td>\n",
       "      <td>71277b0bcf68d933736d203abba2b03a</td>\n",
       "      <td>True</td>\n",
       "      <td>5</td>\n",
       "      <td></td>\n",
       "      <td>Thu Jan 22 09:34:50 -0800 2015</td>\n",
       "      <td>Mon May 02 13:06:01 -0700 2016</td>\n",
       "      <td>Thu Jun 25 06:08:12 -0700 2015</td>\n",
       "      <td>Wed Jun 17 00:00:00 -0700 2015</td>\n",
       "    </tr>\n",
       "    <tr>\n",
       "      <th>3058</th>\n",
       "      <td>478f3accbbb16d817fd90732215b6391</td>\n",
       "      <td>11306</td>\n",
       "      <td>93d8d0aa726fd5bb6521fd7d7df06ab3</td>\n",
       "      <td>True</td>\n",
       "      <td>5</td>\n",
       "      <td></td>\n",
       "      <td>Sun Jul 04 16:28:23 -0700 2010</td>\n",
       "      <td>Sun Jul 04 16:28:23 -0700 2010</td>\n",
       "      <td></td>\n",
       "      <td></td>\n",
       "    </tr>\n",
       "    <tr>\n",
       "      <th>30508</th>\n",
       "      <td>617d78fda32f856fa561ee1ef2dd3672</td>\n",
       "      <td>65605</td>\n",
       "      <td>eb88380ae4b5b8c7f838a2ff9435bdc5</td>\n",
       "      <td>True</td>\n",
       "      <td>4</td>\n",
       "      <td></td>\n",
       "      <td>Wed Jun 06 15:29:54 -0700 2012</td>\n",
       "      <td>Wed Jun 06 15:29:54 -0700 2012</td>\n",
       "      <td></td>\n",
       "      <td></td>\n",
       "    </tr>\n",
       "    <tr>\n",
       "      <th>17425</th>\n",
       "      <td>d430b5e0d8447a143a48467b1615f75e</td>\n",
       "      <td>74731</td>\n",
       "      <td>6a02cc903c02bcf570feab782c804086</td>\n",
       "      <td>True</td>\n",
       "      <td>3</td>\n",
       "      <td></td>\n",
       "      <td>Wed Mar 19 17:52:47 -0700 2008</td>\n",
       "      <td>Wed Mar 19 17:52:47 -0700 2008</td>\n",
       "      <td></td>\n",
       "      <td></td>\n",
       "    </tr>\n",
       "    <tr>\n",
       "      <th>15806</th>\n",
       "      <td>689be7874f3af7d9eecbf0ddd3ff3002</td>\n",
       "      <td>91477</td>\n",
       "      <td>2d0dae7499ece36e7c1e8c49161052ee</td>\n",
       "      <td>True</td>\n",
       "      <td>3</td>\n",
       "      <td></td>\n",
       "      <td>Thu Jun 07 19:03:26 -0700 2012</td>\n",
       "      <td>Thu Jun 07 19:03:26 -0700 2012</td>\n",
       "      <td></td>\n",
       "      <td></td>\n",
       "    </tr>\n",
       "  </tbody>\n",
       "</table>\n",
       "</div>"
      ],
      "text/plain": [
       "                                user_id   book_id  \\\n",
       "46988  1e2e603a3d86ac5d2af6a85e76998766  20560137   \n",
       "3058   478f3accbbb16d817fd90732215b6391     11306   \n",
       "30508  617d78fda32f856fa561ee1ef2dd3672     65605   \n",
       "17425  d430b5e0d8447a143a48467b1615f75e     74731   \n",
       "15806  689be7874f3af7d9eecbf0ddd3ff3002     91477   \n",
       "\n",
       "                              review_id  is_read  rating  \\\n",
       "46988  71277b0bcf68d933736d203abba2b03a     True       5   \n",
       "3058   93d8d0aa726fd5bb6521fd7d7df06ab3     True       5   \n",
       "30508  eb88380ae4b5b8c7f838a2ff9435bdc5     True       4   \n",
       "17425  6a02cc903c02bcf570feab782c804086     True       3   \n",
       "15806  2d0dae7499ece36e7c1e8c49161052ee     True       3   \n",
       "\n",
       "      review_text_incomplete                      date_added  \\\n",
       "46988                         Thu Jan 22 09:34:50 -0800 2015   \n",
       "3058                          Sun Jul 04 16:28:23 -0700 2010   \n",
       "30508                         Wed Jun 06 15:29:54 -0700 2012   \n",
       "17425                         Wed Mar 19 17:52:47 -0700 2008   \n",
       "15806                         Thu Jun 07 19:03:26 -0700 2012   \n",
       "\n",
       "                         date_updated                         read_at  \\\n",
       "46988  Mon May 02 13:06:01 -0700 2016  Thu Jun 25 06:08:12 -0700 2015   \n",
       "3058   Sun Jul 04 16:28:23 -0700 2010                                   \n",
       "30508  Wed Jun 06 15:29:54 -0700 2012                                   \n",
       "17425  Wed Mar 19 17:52:47 -0700 2008                                   \n",
       "15806  Thu Jun 07 19:03:26 -0700 2012                                   \n",
       "\n",
       "                           started_at  \n",
       "46988  Wed Jun 17 00:00:00 -0700 2015  \n",
       "3058                                   \n",
       "30508                                  \n",
       "17425                                  \n",
       "15806                                  "
      ]
     },
     "execution_count": 55,
     "metadata": {},
     "output_type": "execute_result"
    }
   ],
   "source": [
    "df_inter.sample(5)"
   ]
  },
  {
   "cell_type": "markdown",
   "metadata": {},
   "source": [
    "After we have our interaction dataframe, we can see some potential problems: \n",
    "1. We can see the first problem we have is that the user_id is in mixed form between string and integer. In further procress, this is going to cause a problem to out model.\n",
    "2. The book_id type is not in the integer form.  \n",
    "\n",
    "Let's fix these problems."
   ]
  },
  {
   "cell_type": "markdown",
   "metadata": {},
   "source": [
    "Fixing first problem with creating a unique integer index for user_id."
   ]
  },
  {
   "cell_type": "code",
   "execution_count": 56,
   "metadata": {},
   "outputs": [],
   "source": [
    "#group user_id and reset the index\n",
    "indx = df_inter.groupby('user_id').count().reset_index()"
   ]
  },
  {
   "cell_type": "code",
   "execution_count": 57,
   "metadata": {},
   "outputs": [],
   "source": [
    "#Function that returns the numeric id for a certain user.\n",
    "def getIndex(user):\n",
    "    return indx.index[indx['user_id'] == user][0]"
   ]
  },
  {
   "cell_type": "code",
   "execution_count": 58,
   "metadata": {},
   "outputs": [],
   "source": [
    "#assign the numeric id to a new column \n",
    "df_inter['user_id_num'] = df_inter['user_id'].map(getIndex)"
   ]
  },
  {
   "cell_type": "code",
   "execution_count": 59,
   "metadata": {
    "scrolled": true
   },
   "outputs": [
    {
     "data": {
      "text/html": [
       "<div>\n",
       "<style scoped>\n",
       "    .dataframe tbody tr th:only-of-type {\n",
       "        vertical-align: middle;\n",
       "    }\n",
       "\n",
       "    .dataframe tbody tr th {\n",
       "        vertical-align: top;\n",
       "    }\n",
       "\n",
       "    .dataframe thead th {\n",
       "        text-align: right;\n",
       "    }\n",
       "</style>\n",
       "<table border=\"1\" class=\"dataframe\">\n",
       "  <thead>\n",
       "    <tr style=\"text-align: right;\">\n",
       "      <th></th>\n",
       "      <th>user_id</th>\n",
       "      <th>book_id</th>\n",
       "      <th>review_id</th>\n",
       "      <th>is_read</th>\n",
       "      <th>rating</th>\n",
       "      <th>review_text_incomplete</th>\n",
       "      <th>date_added</th>\n",
       "      <th>date_updated</th>\n",
       "      <th>read_at</th>\n",
       "      <th>started_at</th>\n",
       "      <th>user_id_num</th>\n",
       "    </tr>\n",
       "  </thead>\n",
       "  <tbody>\n",
       "    <tr>\n",
       "      <th>37983</th>\n",
       "      <td>e028174c62f21f80c42d1a8637414898</td>\n",
       "      <td>9440171</td>\n",
       "      <td>ae90298d21a1ea494b2b7969e9537f45</td>\n",
       "      <td>True</td>\n",
       "      <td>4</td>\n",
       "      <td></td>\n",
       "      <td>Sun Nov 17 14:14:41 -0800 2013</td>\n",
       "      <td>Tue Nov 19 19:40:56 -0800 2013</td>\n",
       "      <td>Tue Nov 19 19:40:56 -0800 2013</td>\n",
       "      <td>Sun Nov 17 14:14:41 -0800 2013</td>\n",
       "      <td>783</td>\n",
       "    </tr>\n",
       "    <tr>\n",
       "      <th>23260</th>\n",
       "      <td>12f00f3694be5d8edc537bdae053fec0</td>\n",
       "      <td>45112</td>\n",
       "      <td>b5e1027fa7865b63d9e7d2690ca7cb3f</td>\n",
       "      <td>True</td>\n",
       "      <td>4</td>\n",
       "      <td></td>\n",
       "      <td>Sat Nov 02 07:39:26 -0700 2013</td>\n",
       "      <td>Sat Nov 02 10:12:43 -0700 2013</td>\n",
       "      <td></td>\n",
       "      <td></td>\n",
       "      <td>76</td>\n",
       "    </tr>\n",
       "    <tr>\n",
       "      <th>48868</th>\n",
       "      <td>fdb96bba0571ccdc8e6dd938757329bc</td>\n",
       "      <td>17996994</td>\n",
       "      <td>3925c022e52157ba73129b7f3e9bcfce</td>\n",
       "      <td>True</td>\n",
       "      <td>5</td>\n",
       "      <td></td>\n",
       "      <td>Thu May 19 05:18:01 -0700 2016</td>\n",
       "      <td>Tue Jul 05 03:11:37 -0700 2016</td>\n",
       "      <td>Fri Jan 01 00:00:00 -0800 2016</td>\n",
       "      <td></td>\n",
       "      <td>874</td>\n",
       "    </tr>\n",
       "    <tr>\n",
       "      <th>44670</th>\n",
       "      <td>b0878d2dac36cbc1023b5119e8980951</td>\n",
       "      <td>34268</td>\n",
       "      <td>6d64238e92c092bf6ff61186e616a56a</td>\n",
       "      <td>True</td>\n",
       "      <td>5</td>\n",
       "      <td></td>\n",
       "      <td>Sun Jul 14 08:33:06 -0700 2013</td>\n",
       "      <td>Sun Jul 14 08:33:06 -0700 2013</td>\n",
       "      <td></td>\n",
       "      <td></td>\n",
       "      <td>613</td>\n",
       "    </tr>\n",
       "    <tr>\n",
       "      <th>3646</th>\n",
       "      <td>559d843b319087e12f48282e386e401f</td>\n",
       "      <td>256683</td>\n",
       "      <td>f6a42c300db8d3682eddcde45f23b725</td>\n",
       "      <td>True</td>\n",
       "      <td>3</td>\n",
       "      <td></td>\n",
       "      <td>Tue Jun 05 02:29:26 -0700 2012</td>\n",
       "      <td>Tue Jun 05 02:29:26 -0700 2012</td>\n",
       "      <td></td>\n",
       "      <td></td>\n",
       "      <td>298</td>\n",
       "    </tr>\n",
       "  </tbody>\n",
       "</table>\n",
       "</div>"
      ],
      "text/plain": [
       "                                user_id   book_id  \\\n",
       "37983  e028174c62f21f80c42d1a8637414898   9440171   \n",
       "23260  12f00f3694be5d8edc537bdae053fec0     45112   \n",
       "48868  fdb96bba0571ccdc8e6dd938757329bc  17996994   \n",
       "44670  b0878d2dac36cbc1023b5119e8980951     34268   \n",
       "3646   559d843b319087e12f48282e386e401f    256683   \n",
       "\n",
       "                              review_id  is_read  rating  \\\n",
       "37983  ae90298d21a1ea494b2b7969e9537f45     True       4   \n",
       "23260  b5e1027fa7865b63d9e7d2690ca7cb3f     True       4   \n",
       "48868  3925c022e52157ba73129b7f3e9bcfce     True       5   \n",
       "44670  6d64238e92c092bf6ff61186e616a56a     True       5   \n",
       "3646   f6a42c300db8d3682eddcde45f23b725     True       3   \n",
       "\n",
       "      review_text_incomplete                      date_added  \\\n",
       "37983                         Sun Nov 17 14:14:41 -0800 2013   \n",
       "23260                         Sat Nov 02 07:39:26 -0700 2013   \n",
       "48868                         Thu May 19 05:18:01 -0700 2016   \n",
       "44670                         Sun Jul 14 08:33:06 -0700 2013   \n",
       "3646                          Tue Jun 05 02:29:26 -0700 2012   \n",
       "\n",
       "                         date_updated                         read_at  \\\n",
       "37983  Tue Nov 19 19:40:56 -0800 2013  Tue Nov 19 19:40:56 -0800 2013   \n",
       "23260  Sat Nov 02 10:12:43 -0700 2013                                   \n",
       "48868  Tue Jul 05 03:11:37 -0700 2016  Fri Jan 01 00:00:00 -0800 2016   \n",
       "44670  Sun Jul 14 08:33:06 -0700 2013                                   \n",
       "3646   Tue Jun 05 02:29:26 -0700 2012                                   \n",
       "\n",
       "                           started_at  user_id_num  \n",
       "37983  Sun Nov 17 14:14:41 -0800 2013          783  \n",
       "23260                                           76  \n",
       "48868                                          874  \n",
       "44670                                          613  \n",
       "3646                                           298  "
      ]
     },
     "execution_count": 59,
     "metadata": {},
     "output_type": "execute_result"
    }
   ],
   "source": [
    "df_inter.sample(5)"
   ]
  },
  {
   "cell_type": "markdown",
   "metadata": {},
   "source": [
    "Fixing second problem with changing the type of book_id to integer. "
   ]
  },
  {
   "cell_type": "code",
   "execution_count": 62,
   "metadata": {
    "scrolled": true
   },
   "outputs": [],
   "source": [
    "df_inter = df_inter.astype({'book_id': 'int64'})"
   ]
  },
  {
   "cell_type": "markdown",
   "metadata": {},
   "source": [
    "Done! We fixed the problems. Let's rearrange our dataframe by the numeric id."
   ]
  },
  {
   "cell_type": "code",
   "execution_count": 64,
   "metadata": {},
   "outputs": [],
   "source": [
    "df_inter.sort_values(by='user_id_num', inplace=True)"
   ]
  },
  {
   "cell_type": "markdown",
   "metadata": {},
   "source": [
    "### Distribution of ratings in our interaction dataset"
   ]
  },
  {
   "cell_type": "markdown",
   "metadata": {},
   "source": [
    "We want to see how users in our sampled dataset react to the book. "
   ]
  },
  {
   "cell_type": "code",
   "execution_count": 65,
   "metadata": {},
   "outputs": [],
   "source": [
    "count = df_inter['rating'].value_counts()"
   ]
  },
  {
   "cell_type": "code",
   "execution_count": 83,
   "metadata": {
    "scrolled": true
   },
   "outputs": [
    {
     "data": {
      "image/png": "[encoded data removed]",
      "text/plain": [
       "<Figure size 720x720 with 1 Axes>"
      ]
     },
     "metadata": {
      "needs_background": "light"
     },
     "output_type": "display_data"
    }
   ],
   "source": [
    "fig, ax = plt.subplots(figsize=(10,10))\n",
    "count = df_inter['rating'].value_counts().sort_index()\n",
    "\n",
    "count.plot(kind='bar', use_index=True, ax=ax, color=\"gold\")\n",
    "ax.set_ylabel('Count')\n",
    "ax.set_xticklabels(count.index, rotation=0)\n",
    "ax.set_xlabel('Rating')\n",
    "\n",
    "ax.set_title('Distribution of Ratings by Users')\n",
    "\n",
    "for i, v in enumerate(count.values):\n",
    "    ax.text(i-.15, v + 300, str(v), color='steelblue', fontweight='bold')"
   ]
  },
  {
   "cell_type": "markdown",
   "metadata": {},
   "source": [
    "The distribution of rating in our dataset is left-skewed. Majority of users trend to rate books are quite optimistic, meaning that they trend to rate books with high regards."
   ]
  },
  {
   "cell_type": "markdown",
   "metadata": {},
   "source": [
    "### Box plot for user interaction"
   ]
  },
  {
   "cell_type": "markdown",
   "metadata": {},
   "source": [
    "We want to learn about users' behavior in our dataset. We choose to display it with a boxplot."
   ]
  },
  {
   "cell_type": "code",
   "execution_count": 100,
   "metadata": {},
   "outputs": [
    {
     "data": {
      "text/plain": [
       "Text(0.5, 1.0, 'Boxplot of Interactions from Users')"
      ]
     },
     "execution_count": 100,
     "metadata": {},
     "output_type": "execute_result"
    },
    {
     "data": {
      "image/png": "[encoded data removed]",
      "text/plain": [
       "<Figure size 1080x360 with 1 Axes>"
      ]
     },
     "metadata": {
      "needs_background": "light"
     },
     "output_type": "display_data"
    }
   ],
   "source": [
    "fig, ax = plt.subplots(figsize=(15,5))\n",
    "\n",
    "box = df_inter.groupby('user_id_num').count()\n",
    "\n",
    "ax = sns.boxplot(x=box['rating'])\n",
    "\n",
    "ax.set_title('Boxplot of Interactions from Users')"
   ]
  },
  {
   "cell_type": "code",
   "execution_count": 95,
   "metadata": {
    "scrolled": false
   },
   "outputs": [
    {
     "data": {
      "text/plain": [
       "count    881.000000\n",
       "mean      56.754824\n",
       "std       87.836658\n",
       "min        1.000000\n",
       "25%        9.000000\n",
       "50%       26.000000\n",
       "75%       67.000000\n",
       "max      733.000000\n",
       "Name: rating, dtype: float64"
      ]
     },
     "execution_count": 95,
     "metadata": {},
     "output_type": "execute_result"
    }
   ],
   "source": [
    "box.describe()"
   ]
  },
  {
   "cell_type": "markdown",
   "metadata": {},
   "source": [
    "As you can see, the medium is 26 reviews per user while the mean is around 57 review per user. The large gap is a result of having some outliers with extremely high numbers of interactions. For example, there is one user rates the total of 733 books; there are a few users rate above 500 books."
   ]
  },
  {
   "cell_type": "markdown",
   "metadata": {},
   "source": [
    "## We pickle the dataset out to use in the next technical notebook."
   ]
  },
  {
   "cell_type": "code",
   "execution_count": 249,
   "metadata": {},
   "outputs": [],
   "source": [
    "import pickle "
   ]
  },
  {
   "cell_type": "code",
   "execution_count": 250,
   "metadata": {},
   "outputs": [],
   "source": [
    "inter_pk = df_inter[['user_id_num', 'book_id', 'rating']]"
   ]
  },
  {
   "cell_type": "code",
   "execution_count": 251,
   "metadata": {},
   "outputs": [],
   "source": [
    "filename = 'interact'\n",
    "outfile = open(filename,'wb')\n",
    "pickle.dump(inter_pk,outfile)\n",
    "outfile.close()"
   ]
  }
 ],
 "metadata": {
  "kernelspec": {
   "display_name": "Python (learn-env)",
   "language": "python",
   "name": "learn-env"
  },
  "language_info": {
   "codemirror_mode": {
    "name": "ipython",
    "version": 3
   },
   "file_extension": ".py",
   "mimetype": "text/x-python",
   "name": "python",
   "nbconvert_exporter": "python",
   "pygments_lexer": "ipython3",
   "version": "3.8.5"
  }
 },
 "nbformat": 4,
 "nbformat_minor": 4
}
